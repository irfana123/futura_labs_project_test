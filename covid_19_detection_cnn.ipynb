{
 "cells": [
  {
   "cell_type": "code",
   "execution_count": 59,
   "metadata": {},
   "outputs": [],
   "source": [
    "import os \n",
    "import shutil\n",
    "import pandas as pd\n",
    "import glob2\n",
    "import matplotlib.pyplot as plt"
   ]
  },
  {
   "cell_type": "code",
   "execution_count": 101,
   "metadata": {},
   "outputs": [],
   "source": [
    "import tensorflow as tf\n",
    "from tensorflow.keras.preprocessing import image_dataset_from_directory\n",
    "from tensorflow.keras.preprocessing.image import ImageDataGenerator,load_img, img_to_array\n",
    "import seaborn as sns\n",
    "import numpy as np\n",
    "from tensorflow.keras.layers import Input, Conv2D, Dense, Flatten, Dropout, BatchNormalization, MaxPooling2D,GlobalAveragePooling2D,Conv3D, MaxPooling3D,GlobalAveragePooling3D\n",
    "from tensorflow.keras.preprocessing import image"
   ]
  },
  {
   "cell_type": "code",
   "execution_count": 84,
   "metadata": {},
   "outputs": [],
   "source": [
    "from tensorflow.keras.models import Model, Sequential\n",
    "from tensorflow.keras.optimizers import Adam"
   ]
  },
  {
   "cell_type": "code",
   "execution_count": 85,
   "metadata": {},
   "outputs": [],
   "source": [
    "from tensorflow.keras.callbacks import EarlyStopping,ModelCheckpoint\n",
    "from tensorflow.keras.applications.densenet import DenseNet169\n",
    "import cv2"
   ]
  },
  {
   "cell_type": "code",
   "execution_count": 86,
   "metadata": {},
   "outputs": [],
   "source": [
    "# to ignore the warnings \n",
    "import warnings\n",
    "warnings.filterwarnings(\"ignore\")"
   ]
  },
  {
   "cell_type": "code",
   "execution_count": null,
   "metadata": {},
   "outputs": [],
   "source": []
  },
  {
   "cell_type": "markdown",
   "metadata": {},
   "source": [
    "# checking the metadata"
   ]
  },
  {
   "cell_type": "code",
   "execution_count": 3,
   "metadata": {},
   "outputs": [
    {
     "data": {
      "text/html": [
       "<div>\n",
       "<style scoped>\n",
       "    .dataframe tbody tr th:only-of-type {\n",
       "        vertical-align: middle;\n",
       "    }\n",
       "\n",
       "    .dataframe tbody tr th {\n",
       "        vertical-align: top;\n",
       "    }\n",
       "\n",
       "    .dataframe thead th {\n",
       "        text-align: right;\n",
       "    }\n",
       "</style>\n",
       "<table border=\"1\" class=\"dataframe\">\n",
       "  <thead>\n",
       "    <tr style=\"text-align: right;\">\n",
       "      <th></th>\n",
       "      <th>FILE NAME</th>\n",
       "      <th>FORMAT</th>\n",
       "      <th>SIZE</th>\n",
       "      <th>URL</th>\n",
       "    </tr>\n",
       "  </thead>\n",
       "  <tbody>\n",
       "    <tr>\n",
       "      <th>0</th>\n",
       "      <td>COVID-1</td>\n",
       "      <td>PNG</td>\n",
       "      <td>256*256</td>\n",
       "      <td>https://sirm.org/category/senza-categoria/covi...</td>\n",
       "    </tr>\n",
       "    <tr>\n",
       "      <th>1</th>\n",
       "      <td>COVID-2</td>\n",
       "      <td>PNG</td>\n",
       "      <td>256*256</td>\n",
       "      <td>https://sirm.org/category/senza-categoria/covi...</td>\n",
       "    </tr>\n",
       "  </tbody>\n",
       "</table>\n",
       "</div>"
      ],
      "text/plain": [
       "  FILE NAME FORMAT     SIZE                                                URL\n",
       "0   COVID-1    PNG  256*256  https://sirm.org/category/senza-categoria/covi...\n",
       "1   COVID-2    PNG  256*256  https://sirm.org/category/senza-categoria/covi..."
      ]
     },
     "execution_count": 3,
     "metadata": {},
     "output_type": "execute_result"
    }
   ],
   "source": [
    "covid= pd.read_excel(\"./COVID-19_Radiography_Dataset/COVID.metadata.xlsx\")\n",
    "covid.head(2)"
   ]
  },
  {
   "cell_type": "code",
   "execution_count": 4,
   "metadata": {},
   "outputs": [
    {
     "data": {
      "text/html": [
       "<div>\n",
       "<style scoped>\n",
       "    .dataframe tbody tr th:only-of-type {\n",
       "        vertical-align: middle;\n",
       "    }\n",
       "\n",
       "    .dataframe tbody tr th {\n",
       "        vertical-align: top;\n",
       "    }\n",
       "\n",
       "    .dataframe thead th {\n",
       "        text-align: right;\n",
       "    }\n",
       "</style>\n",
       "<table border=\"1\" class=\"dataframe\">\n",
       "  <thead>\n",
       "    <tr style=\"text-align: right;\">\n",
       "      <th></th>\n",
       "      <th>FILE NAME</th>\n",
       "      <th>FORMAT</th>\n",
       "      <th>SIZE</th>\n",
       "      <th>URL</th>\n",
       "    </tr>\n",
       "  </thead>\n",
       "  <tbody>\n",
       "    <tr>\n",
       "      <th>0</th>\n",
       "      <td>Lung_Opacity-1</td>\n",
       "      <td>PNG</td>\n",
       "      <td>256*256</td>\n",
       "      <td>https://www.kaggle.com/c/rsna-pneumonia-detect...</td>\n",
       "    </tr>\n",
       "    <tr>\n",
       "      <th>1</th>\n",
       "      <td>Lung_Opacity-2</td>\n",
       "      <td>PNG</td>\n",
       "      <td>256*256</td>\n",
       "      <td>https://www.kaggle.com/c/rsna-pneumonia-detect...</td>\n",
       "    </tr>\n",
       "  </tbody>\n",
       "</table>\n",
       "</div>"
      ],
      "text/plain": [
       "        FILE NAME FORMAT     SIZE  \\\n",
       "0  Lung_Opacity-1    PNG  256*256   \n",
       "1  Lung_Opacity-2    PNG  256*256   \n",
       "\n",
       "                                                 URL  \n",
       "0  https://www.kaggle.com/c/rsna-pneumonia-detect...  \n",
       "1  https://www.kaggle.com/c/rsna-pneumonia-detect...  "
      ]
     },
     "execution_count": 4,
     "metadata": {},
     "output_type": "execute_result"
    }
   ],
   "source": [
    "lung_opacity_images = pd.read_excel(\"./COVID-19_Radiography_Dataset/Lung_Opacity.metadata.xlsx\")\n",
    "lung_opacity_images.head(2)"
   ]
  },
  {
   "cell_type": "code",
   "execution_count": 5,
   "metadata": {},
   "outputs": [
    {
     "data": {
      "text/html": [
       "<div>\n",
       "<style scoped>\n",
       "    .dataframe tbody tr th:only-of-type {\n",
       "        vertical-align: middle;\n",
       "    }\n",
       "\n",
       "    .dataframe tbody tr th {\n",
       "        vertical-align: top;\n",
       "    }\n",
       "\n",
       "    .dataframe thead th {\n",
       "        text-align: right;\n",
       "    }\n",
       "</style>\n",
       "<table border=\"1\" class=\"dataframe\">\n",
       "  <thead>\n",
       "    <tr style=\"text-align: right;\">\n",
       "      <th></th>\n",
       "      <th>FILE NAME</th>\n",
       "      <th>FORMAT</th>\n",
       "      <th>SIZE</th>\n",
       "      <th>URL</th>\n",
       "    </tr>\n",
       "  </thead>\n",
       "  <tbody>\n",
       "    <tr>\n",
       "      <th>0</th>\n",
       "      <td>NORMAL-1</td>\n",
       "      <td>PNG</td>\n",
       "      <td>256*256</td>\n",
       "      <td>https://www.kaggle.com/c/rsna-pneumonia-detect...</td>\n",
       "    </tr>\n",
       "    <tr>\n",
       "      <th>1</th>\n",
       "      <td>NORMAL-2</td>\n",
       "      <td>PNG</td>\n",
       "      <td>256*256</td>\n",
       "      <td>https://www.kaggle.com/c/rsna-pneumonia-detect...</td>\n",
       "    </tr>\n",
       "  </tbody>\n",
       "</table>\n",
       "</div>"
      ],
      "text/plain": [
       "  FILE NAME FORMAT     SIZE                                                URL\n",
       "0  NORMAL-1    PNG  256*256  https://www.kaggle.com/c/rsna-pneumonia-detect...\n",
       "1  NORMAL-2    PNG  256*256  https://www.kaggle.com/c/rsna-pneumonia-detect..."
      ]
     },
     "execution_count": 5,
     "metadata": {},
     "output_type": "execute_result"
    }
   ],
   "source": [
    "normal= pd.read_excel(\"./COVID-19_Radiography_Dataset/Normal.metadata.xlsx\")\n",
    "normal.head(2)"
   ]
  },
  {
   "cell_type": "code",
   "execution_count": 6,
   "metadata": {},
   "outputs": [
    {
     "data": {
      "text/html": [
       "<div>\n",
       "<style scoped>\n",
       "    .dataframe tbody tr th:only-of-type {\n",
       "        vertical-align: middle;\n",
       "    }\n",
       "\n",
       "    .dataframe tbody tr th {\n",
       "        vertical-align: top;\n",
       "    }\n",
       "\n",
       "    .dataframe thead th {\n",
       "        text-align: right;\n",
       "    }\n",
       "</style>\n",
       "<table border=\"1\" class=\"dataframe\">\n",
       "  <thead>\n",
       "    <tr style=\"text-align: right;\">\n",
       "      <th></th>\n",
       "      <th>FILE NAME</th>\n",
       "      <th>FORMAT</th>\n",
       "      <th>SIZE</th>\n",
       "      <th>URL</th>\n",
       "    </tr>\n",
       "  </thead>\n",
       "  <tbody>\n",
       "    <tr>\n",
       "      <th>0</th>\n",
       "      <td>Viral Pneumonia-1</td>\n",
       "      <td>PNG</td>\n",
       "      <td>256*256</td>\n",
       "      <td>https://www.kaggle.com/paultimothymooney/chest...</td>\n",
       "    </tr>\n",
       "    <tr>\n",
       "      <th>1</th>\n",
       "      <td>Viral Pneumonia-2</td>\n",
       "      <td>PNG</td>\n",
       "      <td>256*256</td>\n",
       "      <td>https://www.kaggle.com/paultimothymooney/chest...</td>\n",
       "    </tr>\n",
       "  </tbody>\n",
       "</table>\n",
       "</div>"
      ],
      "text/plain": [
       "           FILE NAME FORMAT     SIZE  \\\n",
       "0  Viral Pneumonia-1    PNG  256*256   \n",
       "1  Viral Pneumonia-2    PNG  256*256   \n",
       "\n",
       "                                                 URL  \n",
       "0  https://www.kaggle.com/paultimothymooney/chest...  \n",
       "1  https://www.kaggle.com/paultimothymooney/chest...  "
      ]
     },
     "execution_count": 6,
     "metadata": {},
     "output_type": "execute_result"
    }
   ],
   "source": [
    "pneumonia = pd.read_excel(\"./COVID-19_Radiography_Dataset/Viral Pneumonia.metadata.xlsx\")\n",
    "pneumonia.head(2)"
   ]
  },
  {
   "cell_type": "code",
   "execution_count": 7,
   "metadata": {},
   "outputs": [],
   "source": [
    "#working with image data"
   ]
  },
  {
   "cell_type": "code",
   "execution_count": 76,
   "metadata": {},
   "outputs": [
    {
     "data": {
      "text/plain": [
       "['Lung_Opacity.metadata.xlsx',\n",
       " 'Viral Pneumonia.metadata.xlsx',\n",
       " '.DS_Store',\n",
       " 'Viral Pneumonia',\n",
       " 'COVID.metadata.xlsx',\n",
       " 'Normal.metadata.xlsx',\n",
       " 'Lung_Opacity',\n",
       " 'Normal',\n",
       " 'COVID',\n",
       " 'README.md.txt']"
      ]
     },
     "execution_count": 76,
     "metadata": {},
     "output_type": "execute_result"
    }
   ],
   "source": [
    "path = []\n",
    "for dirname, _, filenames in os.walk('/COVID-19_Radiography_Dataset'):\n",
    "    for filename in filenames:\n",
    "        if (filename[-3:] == 'png'):\n",
    "            path.append(os.path.join(dirname, filename))\n",
    "            \n",
    "fullpath = \"/Users/irfana/Documents/futuraLabs_project/COVID-19_Radiography_Dataset\"\n",
    "os.listdir(fullpath)"
   ]
  },
  {
   "cell_type": "code",
   "execution_count": 80,
   "metadata": {},
   "outputs": [],
   "source": [
    "normal_images = []\n",
    "images_together = []\n",
    "\n",
    "count = 0\n",
    "\n"
   ]
  },
  {
   "cell_type": "code",
   "execution_count": 87,
   "metadata": {},
   "outputs": [],
   "source": [
    "for img_path in glob.glob(fullpath + \"/Normal/*\"):\n",
    "    count += 1\n",
    "    normal_images.append(image.load_img(str(img_path), target_size = (150,150,3)))\n",
    "   \n",
    "    if count >1000:\n",
    "        break\n",
    "\n",
    "\n",
    "\n",
    "    "
   ]
  },
  {
   "cell_type": "code",
   "execution_count": 88,
   "metadata": {},
   "outputs": [],
   "source": [
    "covid_images = []\n",
    "count = 0\n",
    "for img_path in glob.glob(fullpath + \"/COVID/*\"):\n",
    "    count += 1\n",
    "    covid_images.append(image.load_img(str(img_path), target_size = (150,150,3)))\n",
    "    if count > 1000:\n",
    "        break\n",
    "\n"
   ]
  },
  {
   "cell_type": "code",
   "execution_count": 89,
   "metadata": {},
   "outputs": [],
   "source": [
    "Lung_opcaity = []\n",
    "count = 0\n",
    "\n",
    "\n",
    "for img_path in glob.glob(fullpath + \"/Lung_Opacity/*\"):\n",
    "    count += 1\n",
    "    Lung_opcaity.append(image.load_img(str(img_path), target_size = (150,150,3)))\n",
    "    if count > 1000:\n",
    "        break\n",
    "\n"
   ]
  },
  {
   "cell_type": "code",
   "execution_count": 90,
   "metadata": {},
   "outputs": [],
   "source": [
    "\n",
    "Viral_pneumonia = []\n",
    "count = 0\n",
    "for img_path in glob.glob(fullpath + \"/Viral Pneumonia/*\"):\n",
    "    count += 1\n",
    "    Viral_pneumonia.append(image.load_img(str(img_path), target_size = (150,150,3)))\n",
    "    if count >1000:\n",
    "        break"
   ]
  },
  {
   "cell_type": "code",
   "execution_count": 91,
   "metadata": {},
   "outputs": [],
   "source": [
    "y=[]\n",
    "\n",
    "for i in normal_images:\n",
    "    images_together.append(img_to_array(i))\n",
    "    y.append(0)"
   ]
  },
  {
   "cell_type": "code",
   "execution_count": 92,
   "metadata": {},
   "outputs": [],
   "source": [
    "for i in covid_images:\n",
    "    images_together.append(img_to_array(i))\n",
    "    y.append(1)"
   ]
  },
  {
   "cell_type": "code",
   "execution_count": 93,
   "metadata": {},
   "outputs": [],
   "source": [
    "for i in Lung_opcaity:\n",
    "    images_together.append(img_to_array(i))\n",
    "    y.append(2)"
   ]
  },
  {
   "cell_type": "code",
   "execution_count": 94,
   "metadata": {},
   "outputs": [],
   "source": [
    "for i in Viral_pneumonia:\n",
    "    images_together.append(img_to_array(i))\n",
    "    y.append(3)"
   ]
  },
  {
   "cell_type": "code",
   "execution_count": 95,
   "metadata": {},
   "outputs": [
    {
     "name": "stdout",
     "output_type": "stream",
     "text": [
      "Lenth of all images  4003\n",
      "Lenth of y  4003\n"
     ]
    }
   ],
   "source": [
    "print(\"Lenth of all images \",len(images_together))\n",
    "print(\"Lenth of y \",len(y))\n",
    "from tensorflow.keras.utils import to_categorical\n",
    "y=to_categorical(y)"
   ]
  },
  {
   "cell_type": "code",
   "execution_count": 96,
   "metadata": {},
   "outputs": [
    {
     "name": "stdout",
     "output_type": "stream",
     "text": [
      "shape of images together:  (4003, 150, 150, 3)\n"
     ]
    }
   ],
   "source": [
    "images_together = np.array(images_together)\n",
    "print(\"shape of images together: \",images_together.shape)"
   ]
  },
  {
   "cell_type": "code",
   "execution_count": null,
   "metadata": {},
   "outputs": [],
   "source": [
    "# splitting the data into train and test"
   ]
  },
  {
   "cell_type": "code",
   "execution_count": 98,
   "metadata": {},
   "outputs": [],
   "source": [
    "from sklearn.model_selection import train_test_split\n",
    "X_train, x_test, y_train, y_test = train_test_split(images_together, y, test_size=0.25, stratify=y)\n"
   ]
  },
  {
   "cell_type": "code",
   "execution_count": 99,
   "metadata": {},
   "outputs": [],
   "source": [
    "images_together = np.concatenate((X_train, x_test))\n",
    "y = np.concatenate((y_train, y_test))"
   ]
  },
  {
   "cell_type": "markdown",
   "metadata": {},
   "source": [
    "#  building a cnn model"
   ]
  },
  {
   "cell_type": "code",
   "execution_count": 103,
   "metadata": {},
   "outputs": [],
   "source": [
    "model = Sequential()\n",
    "\n",
    "model.add(Conv2D(filters = 32, kernel_size =(3,3), activation = \"relu\", input_shape=(150,150,3), kernel_initializer='he_normal',))\n",
    "model.add(MaxPooling2D(pool_size = (2,2)))\n",
    "model.add(Conv2D(filters = 64, kernel_size =(3,3), activation = \"relu\"))\n",
    "model.add(MaxPooling2D(pool_size = (2,2)))\n",
    "model.add(Conv2D(filters = 128, kernel_size =(3,3), activation = \"relu\"))\n",
    "model.add(MaxPooling2D(pool_size = (2,2), strides = (1,1)))\n",
    "model.add(Dropout(0.25))\n",
    "#fully connected\n",
    "model.add(Flatten())\n",
    "# we have 4 classes\n",
    "model.add(Dense(4, activation = \"softmax\"))\n",
    "# compile \n",
    "model.compile(loss = \"categorical_crossentropy\",\n",
    "             optimizer = \"adam\",\n",
    "             metrics = [\"accuracy\"])\n"
   ]
  },
  {
   "cell_type": "markdown",
   "metadata": {},
   "source": [
    "# model summary"
   ]
  },
  {
   "cell_type": "code",
   "execution_count": 104,
   "metadata": {},
   "outputs": [
    {
     "name": "stdout",
     "output_type": "stream",
     "text": [
      "Model: \"sequential_2\"\n",
      "_________________________________________________________________\n",
      "Layer (type)                 Output Shape              Param #   \n",
      "=================================================================\n",
      "conv2d_2 (Conv2D)            (None, 148, 148, 32)      896       \n",
      "_________________________________________________________________\n",
      "max_pooling2d (MaxPooling2D) (None, 74, 74, 32)        0         \n",
      "_________________________________________________________________\n",
      "conv2d_3 (Conv2D)            (None, 72, 72, 64)        18496     \n",
      "_________________________________________________________________\n",
      "max_pooling2d_1 (MaxPooling2 (None, 36, 36, 64)        0         \n",
      "_________________________________________________________________\n",
      "conv2d_4 (Conv2D)            (None, 34, 34, 128)       73856     \n",
      "_________________________________________________________________\n",
      "max_pooling2d_2 (MaxPooling2 (None, 33, 33, 128)       0         \n",
      "_________________________________________________________________\n",
      "dropout (Dropout)            (None, 33, 33, 128)       0         \n",
      "_________________________________________________________________\n",
      "flatten (Flatten)            (None, 139392)            0         \n",
      "_________________________________________________________________\n",
      "dense (Dense)                (None, 4)                 557572    \n",
      "=================================================================\n",
      "Total params: 650,820\n",
      "Trainable params: 650,820\n",
      "Non-trainable params: 0\n",
      "_________________________________________________________________\n",
      "None\n"
     ]
    }
   ],
   "source": [
    "print(model.summary())"
   ]
  },
  {
   "cell_type": "markdown",
   "metadata": {},
   "source": [
    "# deep learning process"
   ]
  },
  {
   "cell_type": "code",
   "execution_count": 105,
   "metadata": {},
   "outputs": [],
   "source": [
    "train_datagen = ImageDataGenerator(rescale = 1./255,\n",
    "                                  shear_range = 0.2,\n",
    "                                  zoom_range = 0.2,\n",
    "                                  horizontal_flip = True,\n",
    "                                  validation_split = 0.25)"
   ]
  },
  {
   "cell_type": "code",
   "execution_count": 106,
   "metadata": {},
   "outputs": [],
   "source": [
    "train_generator = train_datagen.flow(\n",
    "images_together, y,\n",
    "batch_size = 40,\n",
    "subset = \"training\")"
   ]
  },
  {
   "cell_type": "code",
   "execution_count": 107,
   "metadata": {},
   "outputs": [],
   "source": [
    "validation_generator = train_datagen.flow(\n",
    "images_together, y,\n",
    "batch_size = 40,\n",
    "shuffle = False,\n",
    "subset = \"validation\")"
   ]
  },
  {
   "cell_type": "code",
   "execution_count": 109,
   "metadata": {},
   "outputs": [],
   "source": [
    "# implementing early stopping and model check point \n",
    "\n",
    "from keras.callbacks import EarlyStopping\n",
    "from keras.callbacks import ModelCheckpoint\n",
    "\n",
    "es = EarlyStopping(monitor= \"val_accuracy\" , min_delta= 0.01, patience= 3, verbose=1)\n",
    "mc = ModelCheckpoint(filepath=\"bestmodel.h5\", monitor=\"val_accuracy\", verbose=1, save_best_only= True)"
   ]
  },
  {
   "cell_type": "code",
   "execution_count": null,
   "metadata": {},
   "outputs": [],
   "source": []
  },
  {
   "cell_type": "code",
   "execution_count": null,
   "metadata": {},
   "outputs": [],
   "source": []
  },
  {
   "cell_type": "code",
   "execution_count": 110,
   "metadata": {},
   "outputs": [
    {
     "name": "stdout",
     "output_type": "stream",
     "text": [
      "Epoch 1/35\n",
      "10/10 [==============================] - 17s 2s/step - loss: 0.6525 - accuracy: 0.7355 - val_loss: 0.6916 - val_accuracy: 0.7234\n",
      "\n",
      "Epoch 00001: val_accuracy improved from -inf to 0.72344, saving model to bestmodel.h5\n",
      "Epoch 2/35\n",
      "10/10 [==============================] - 22s 2s/step - loss: 0.5829 - accuracy: 0.7750 - val_loss: 0.5006 - val_accuracy: 0.8266\n",
      "\n",
      "Epoch 00002: val_accuracy improved from 0.72344 to 0.82656, saving model to bestmodel.h5\n",
      "Epoch 3/35\n",
      "10/10 [==============================] - 21s 2s/step - loss: 0.5013 - accuracy: 0.8125 - val_loss: 0.5533 - val_accuracy: 0.7688\n",
      "\n",
      "Epoch 00003: val_accuracy did not improve from 0.82656\n",
      "Epoch 4/35\n",
      "10/10 [==============================] - 22s 2s/step - loss: 0.4865 - accuracy: 0.8050 - val_loss: 0.5198 - val_accuracy: 0.8125\n",
      "\n",
      "Epoch 00004: val_accuracy did not improve from 0.82656\n",
      "Epoch 5/35\n",
      "10/10 [==============================] - 18s 2s/step - loss: 0.4849 - accuracy: 0.8275 - val_loss: 0.5019 - val_accuracy: 0.8125\n",
      "\n",
      "Epoch 00005: val_accuracy did not improve from 0.82656\n",
      "Epoch 00005: early stopping\n"
     ]
    }
   ],
   "source": [
    "# model fitting\n",
    "\n",
    "\n",
    "hist = model.fit(\n",
    "train_generator,\n",
    "steps_per_epoch = 10,\n",
    "validation_data = validation_generator,\n",
    "epochs = 35,\n",
    "validation_steps= 16, \n",
    "callbacks=[es,mc])"
   ]
  },
  {
   "cell_type": "code",
   "execution_count": null,
   "metadata": {},
   "outputs": [],
   "source": []
  },
  {
   "cell_type": "code",
   "execution_count": 111,
   "metadata": {},
   "outputs": [],
   "source": [
    "## load only the best model \n",
    "from keras.models import load_model\n",
    "model = load_model(\"bestmodel.h5\")"
   ]
  },
  {
   "cell_type": "code",
   "execution_count": 112,
   "metadata": {},
   "outputs": [
    {
     "data": {
      "text/plain": [
       "dict_keys(['loss', 'accuracy', 'val_loss', 'val_accuracy'])"
      ]
     },
     "execution_count": 112,
     "metadata": {},
     "output_type": "execute_result"
    }
   ],
   "source": [
    "h = hist.history\n",
    "h.keys()"
   ]
  },
  {
   "cell_type": "code",
   "execution_count": 113,
   "metadata": {},
   "outputs": [
    {
     "data": {
      "image/png": "[encoded data removed]",
      "text/plain": [
       "<Figure size 432x288 with 1 Axes>"
      ]
     },
     "metadata": {
      "needs_background": "light"
     },
     "output_type": "display_data"
    }
   ],
   "source": [
    "plt.plot(h['accuracy'])\n",
    "plt.plot(h['val_accuracy'] , c = \"red\")\n",
    "plt.title(\"acc vs v-acc\")\n",
    "plt.show()"
   ]
  },
  {
   "cell_type": "code",
   "execution_count": 114,
   "metadata": {},
   "outputs": [
    {
     "data": {
      "image/png": "[encoded data removed]",
      "text/plain": [
       "<Figure size 432x288 with 1 Axes>"
      ]
     },
     "metadata": {
      "needs_background": "light"
     },
     "output_type": "display_data"
    }
   ],
   "source": [
    "plt.plot(h['loss'])\n",
    "plt.plot(h['val_loss'] , c = \"red\")\n",
    "plt.title(\"loss vs v-loss\")\n",
    "plt.show()\n"
   ]
  },
  {
   "cell_type": "code",
   "execution_count": 117,
   "metadata": {},
   "outputs": [
    {
     "name": "stdout",
     "output_type": "stream",
     "text": [
      "32/32 [==============================] - 6s 183ms/step - loss: 64.9987 - accuracy: 0.7662\n"
     ]
    }
   ],
   "source": [
    "# checking out the accurscy of our model \n",
    "\n",
    "test_loss,test_acc=model.evaluate(x_test,y_test)\n",
    "\n"
   ]
  },
  {
   "cell_type": "code",
   "execution_count": 118,
   "metadata": {},
   "outputs": [
    {
     "name": "stdout",
     "output_type": "stream",
     "text": [
      "              precision    recall  f1-score   support\n",
      "\n",
      "           0      0.585     0.892     0.707       250\n",
      "           1      0.899     0.534     0.670       251\n",
      "           2      0.808     0.688     0.743       250\n",
      "           3      0.922     0.952     0.937       250\n",
      "\n",
      "    accuracy                          0.766      1001\n",
      "   macro avg      0.804     0.766     0.764      1001\n",
      "weighted avg      0.804     0.766     0.764      1001\n",
      "\n"
     ]
    }
   ],
   "source": [
    "from sklearn.metrics import classification_report\n",
    "prediction = model.predict(x_test, batch_size=40)\n",
    "prediction = np.argmax(prediction, axis=1)\n",
    "print(classification_report(y_test.argmax(axis=1), prediction, digits = 3))"
   ]
  }
 ],
 "metadata": {
  "kernelspec": {
   "display_name": "Python 3",
   "language": "python",
   "name": "python3"
  },
  "language_info": {
   "codemirror_mode": {
    "name": "ipython",
    "version": 3
   },
   "file_extension": ".py",
   "mimetype": "text/x-python",
   "name": "python",
   "nbconvert_exporter": "python",
   "pygments_lexer": "ipython3",
   "version": "3.8.5"
  }
 },
 "nbformat": 4,
 "nbformat_minor": 4
}
